{
 "cells": [
  {
   "cell_type": "code",
   "execution_count": 1,
   "metadata": {},
   "outputs": [
    {
     "data": {
      "text/plain": [
       "True"
      ]
     },
     "execution_count": 1,
     "metadata": {},
     "output_type": "execute_result"
    }
   ],
   "source": [
    "#建立web3连接\n",
    "from web3 import Web3\n",
    "w3 = Web3(Web3.HTTPProvider(\"http://localhost:8545\"))\n",
    "w3.isConnected()"
   ]
  },
  {
   "cell_type": "code",
   "execution_count": 2,
   "metadata": {},
   "outputs": [],
   "source": [
    "from_addr = \"0x0C0f311aA40C57d6dA526bD324889C102D94A49b\" #建立合约的地址即返回结果中account\n",
    "private_key = \"0x4a04991939ff48f11f260592905f3a9293edc12af06aa3a2a34b44c7f8bee27b\" # from 对应私钥\n",
    "contract_addr= \"0x93b6f5e613340aA5665F76314112490890362FFb\" #合约地址，这个由合约给出，对于同一种token是固定的\n",
    "# 以上对于阿里云上的ganache已经固定了，不用修改\n",
    "\n",
    "to_addr = \"0xF5a9bc22C43325F1492518f512e280d838dbdeF5\" # 接收地址"
   ]
  },
  {
   "cell_type": "code",
   "execution_count": 3,
   "metadata": {},
   "outputs": [],
   "source": [
    "#读取合约对应的abi\n",
    "import json\n",
    "truffle_file = json.load(open(\"build/contracts/TestToken.json\"))\n",
    "test_token_abi = truffle_file['abi']"
   ]
  },
  {
   "cell_type": "code",
   "execution_count": 4,
   "metadata": {},
   "outputs": [],
   "source": [
    "#获取合约实例\n",
    "erc20basic = w3.eth.contract(address=contract_addr, abi=test_token_abi)\n"
   ]
  },
  {
   "cell_type": "code",
   "execution_count": 5,
   "metadata": {},
   "outputs": [],
   "source": [
    "#构建合约 transaction\n",
    "transfer_token_number = 1000\n",
    "erc20token_txn = erc20basic.functions.transfer(to_addr, transfer_token_number ).buildTransaction({\n",
    "\t\t'chainId': 1337,\n",
    "\t\t'gas': 100000, #gas默认目前100000\n",
    "\t\t'gasPrice': w3.eth.gas_price,\n",
    "\t\t'nonce':w3.eth.get_transaction_count(from_addr), #nonce，同样可选\n",
    "\t})"
   ]
  },
  {
   "cell_type": "code",
   "execution_count": 6,
   "metadata": {},
   "outputs": [
    {
     "data": {
      "text/plain": [
       "{'value': 0,\n",
       " 'chainId': 1337,\n",
       " 'gas': 100000,\n",
       " 'gasPrice': 20000000000,\n",
       " 'nonce': 1,\n",
       " 'to': '0x93b6f5e613340aA5665F76314112490890362FFb',\n",
       " 'data': '0xa9059cbb000000000000000000000000f5a9bc22c43325f1492518f512e280d838dbdef500000000000000000000000000000000000000000000000000000000000003e8'}"
      ]
     },
     "execution_count": 6,
     "metadata": {},
     "output_type": "execute_result"
    }
   ],
   "source": [
    "erc20token_txn   #有data，无value"
   ]
  },
  {
   "cell_type": "code",
   "execution_count": 7,
   "metadata": {},
   "outputs": [],
   "source": [
    "sign_txn = w3.eth.account.sign_transaction(erc20token_txn, private_key=private_key)\n",
    "rst_tx = w3.eth.send_raw_transaction(sign_txn.rawTransaction)"
   ]
  },
  {
   "cell_type": "code",
   "execution_count": 8,
   "metadata": {},
   "outputs": [
    {
     "data": {
      "text/plain": [
       "1000"
      ]
     },
     "execution_count": 8,
     "metadata": {},
     "output_type": "execute_result"
    }
   ],
   "source": [
    "erc20basic.functions.balanceOf(to_addr).call() #获取balance"
   ]
  }
 ],
 "metadata": {
  "interpreter": {
   "hash": "916dbcbb3f70747c44a77c7bcd40155683ae19c65e1c03b4aa3499c5328201f1"
  },
  "kernelspec": {
   "display_name": "Python 3.8.10 64-bit",
   "name": "python3"
  },
  "language_info": {
   "codemirror_mode": {
    "name": "ipython",
    "version": 3
   },
   "file_extension": ".py",
   "mimetype": "text/x-python",
   "name": "python",
   "nbconvert_exporter": "python",
   "pygments_lexer": "ipython3",
   "version": "3.8.10"
  },
  "orig_nbformat": 4
 },
 "nbformat": 4,
 "nbformat_minor": 2
}
